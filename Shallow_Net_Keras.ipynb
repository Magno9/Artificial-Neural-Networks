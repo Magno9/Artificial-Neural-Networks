{
 "cells": [
  {
   "cell_type": "code",
   "execution_count": 1,
   "metadata": {},
   "outputs": [
    {
     "name": "stderr",
     "output_type": "stream",
     "text": [
      "Using TensorFlow backend.\n"
     ]
    }
   ],
   "source": [
    "import keras\n",
    "from keras.datasets import mnist\n",
    "from keras.models import Sequential\n",
    "from keras.layers import Dense\n",
    "from keras.optimizers import SGD\n",
    "import matplotlib.pyplot as plt"
   ]
  },
  {
   "cell_type": "code",
   "execution_count": 2,
   "metadata": {},
   "outputs": [],
   "source": [
    "(X_train, y_train) , (X_valid, y_valid) = mnist.load_data()"
   ]
  },
  {
   "cell_type": "code",
   "execution_count": 3,
   "metadata": {},
   "outputs": [
    {
     "data": {
      "text/plain": [
       "(60000, 28, 28)"
      ]
     },
     "execution_count": 3,
     "metadata": {},
     "output_type": "execute_result"
    }
   ],
   "source": [
    "X_train.shape\n",
    "# This shows us we have 60,000 training images, each of which is a 28*28 matrix of values"
   ]
  },
  {
   "cell_type": "code",
   "execution_count": 4,
   "metadata": {},
   "outputs": [
    {
     "data": {
      "text/plain": [
       "(60000,)"
      ]
     },
     "execution_count": 4,
     "metadata": {},
     "output_type": "execute_result"
    }
   ],
   "source": [
    "y_train.shape\n",
    "# This is the amount of labels (60,000, so 1 per number, which makes sense)"
   ]
  },
  {
   "cell_type": "code",
   "execution_count": 5,
   "metadata": {},
   "outputs": [
    {
     "data": {
      "text/plain": [
       "array([5, 0, 4, 1, 9, 2, 1, 3, 1, 4, 3, 5], dtype=uint8)"
      ]
     },
     "execution_count": 5,
     "metadata": {},
     "output_type": "execute_result"
    }
   ],
   "source": [
    "y_train[0:12]\n",
    "# The first dozen of labels"
   ]
  },
  {
   "cell_type": "code",
   "execution_count": 6,
   "metadata": {},
   "outputs": [
    {
     "data": {
      "image/png": "[encoded data removed]",
      "text/plain": [
       "<Figure size 360x360 with 12 Axes>"
      ]
     },
     "metadata": {
      "needs_background": "light"
     },
     "output_type": "display_data"
    }
   ],
   "source": [
    "plt.figure(figsize=(5,5))\n",
    "for k in range(12):\n",
    "    plt.subplot(3,4,k+1)\n",
    "    plt.imshow(X_train[k],cmap='Greys')\n",
    "    plt.axis('off')\n",
    "plt.tight_layout()\n",
    "plt.show()"
   ]
  },
  {
   "cell_type": "code",
   "execution_count": 7,
   "metadata": {},
   "outputs": [
    {
     "data": {
      "text/plain": [
       "(10000, 28, 28)"
      ]
     },
     "execution_count": 7,
     "metadata": {},
     "output_type": "execute_result"
    }
   ],
   "source": [
    "X_valid.shape\n",
    "# This shows us we have 10,000 test images, each of which is a 28*28 matrix of values"
   ]
  },
  {
   "cell_type": "code",
   "execution_count": 8,
   "metadata": {},
   "outputs": [
    {
     "data": {
      "text/plain": [
       "(10000,)"
      ]
     },
     "execution_count": 8,
     "metadata": {},
     "output_type": "execute_result"
    }
   ],
   "source": [
    "y_valid.shape\n",
    "# This is the amount of labels (10,000, so 1 per number, which makes sense)"
   ]
  },
  {
   "cell_type": "code",
   "execution_count": 9,
   "metadata": {
    "scrolled": true
   },
   "outputs": [
    {
     "data": {
      "text/plain": [
       "array([[  0,   0,   0,   0,   0,   0,   0,   0,   0,   0,   0,   0,   0,\n",
       "          0,   0,   0,   0,   0,   0,   0,   0,   0,   0,   0,   0,   0,\n",
       "          0,   0],\n",
       "       [  0,   0,   0,   0,   0,   0,   0,   0,   0,   0,   0,   0,   0,\n",
       "          0,   0,   0,   0,   0,   0,   0,   0,   0,   0,   0,   0,   0,\n",
       "          0,   0],\n",
       "       [  0,   0,   0,   0,   0,   0,   0,   0,   0,   0,   0,   0,   0,\n",
       "          0,   0,   0,   0,   0,   0,   0,   0,   0,   0,   0,   0,   0,\n",
       "          0,   0],\n",
       "       [  0,   0,   0,   0,   0,   0,   0,   0,   0,   0,   0,   0,   0,\n",
       "          0,   0,   0,   0,   0,   0,   0,   0,   0,   0,   0,   0,   0,\n",
       "          0,   0],\n",
       "       [  0,   0,   0,   0,   0,   0,   0,   0,   0,   0,   0,   0,   0,\n",
       "          0,   0,   0,   0,   0,   0,   0,   0,   0,   0,   0,   0,   0,\n",
       "          0,   0],\n",
       "       [  0,   0,   0,   0,   0,   0,   0,   0,   0,   0,   0,   0,   0,\n",
       "          0,   0,   0,   0,   0,   0,   0,   0,   0,   0,   0,   0,   0,\n",
       "          0,   0],\n",
       "       [  0,   0,   0,   0,   0,   0,   0,   0,   0,   0,   0,   0,   0,\n",
       "          0,   0,   0,   0,   0,   0,   0,   0,   0,   0,   0,   0,   0,\n",
       "          0,   0],\n",
       "       [  0,   0,   0,   0,   0,   0,  84, 185, 159, 151,  60,  36,   0,\n",
       "          0,   0,   0,   0,   0,   0,   0,   0,   0,   0,   0,   0,   0,\n",
       "          0,   0],\n",
       "       [  0,   0,   0,   0,   0,   0, 222, 254, 254, 254, 254, 241, 198,\n",
       "        198, 198, 198, 198, 198, 198, 198, 170,  52,   0,   0,   0,   0,\n",
       "          0,   0],\n",
       "       [  0,   0,   0,   0,   0,   0,  67, 114,  72, 114, 163, 227, 254,\n",
       "        225, 254, 254, 254, 250, 229, 254, 254, 140,   0,   0,   0,   0,\n",
       "          0,   0],\n",
       "       [  0,   0,   0,   0,   0,   0,   0,   0,   0,   0,   0,  17,  66,\n",
       "         14,  67,  67,  67,  59,  21, 236, 254, 106,   0,   0,   0,   0,\n",
       "          0,   0],\n",
       "       [  0,   0,   0,   0,   0,   0,   0,   0,   0,   0,   0,   0,   0,\n",
       "          0,   0,   0,   0,   0,  83, 253, 209,  18,   0,   0,   0,   0,\n",
       "          0,   0],\n",
       "       [  0,   0,   0,   0,   0,   0,   0,   0,   0,   0,   0,   0,   0,\n",
       "          0,   0,   0,   0,  22, 233, 255,  83,   0,   0,   0,   0,   0,\n",
       "          0,   0],\n",
       "       [  0,   0,   0,   0,   0,   0,   0,   0,   0,   0,   0,   0,   0,\n",
       "          0,   0,   0,   0, 129, 254, 238,  44,   0,   0,   0,   0,   0,\n",
       "          0,   0],\n",
       "       [  0,   0,   0,   0,   0,   0,   0,   0,   0,   0,   0,   0,   0,\n",
       "          0,   0,   0,  59, 249, 254,  62,   0,   0,   0,   0,   0,   0,\n",
       "          0,   0],\n",
       "       [  0,   0,   0,   0,   0,   0,   0,   0,   0,   0,   0,   0,   0,\n",
       "          0,   0,   0, 133, 254, 187,   5,   0,   0,   0,   0,   0,   0,\n",
       "          0,   0],\n",
       "       [  0,   0,   0,   0,   0,   0,   0,   0,   0,   0,   0,   0,   0,\n",
       "          0,   0,   9, 205, 248,  58,   0,   0,   0,   0,   0,   0,   0,\n",
       "          0,   0],\n",
       "       [  0,   0,   0,   0,   0,   0,   0,   0,   0,   0,   0,   0,   0,\n",
       "          0,   0, 126, 254, 182,   0,   0,   0,   0,   0,   0,   0,   0,\n",
       "          0,   0],\n",
       "       [  0,   0,   0,   0,   0,   0,   0,   0,   0,   0,   0,   0,   0,\n",
       "          0,  75, 251, 240,  57,   0,   0,   0,   0,   0,   0,   0,   0,\n",
       "          0,   0],\n",
       "       [  0,   0,   0,   0,   0,   0,   0,   0,   0,   0,   0,   0,   0,\n",
       "         19, 221, 254, 166,   0,   0,   0,   0,   0,   0,   0,   0,   0,\n",
       "          0,   0],\n",
       "       [  0,   0,   0,   0,   0,   0,   0,   0,   0,   0,   0,   0,   3,\n",
       "        203, 254, 219,  35,   0,   0,   0,   0,   0,   0,   0,   0,   0,\n",
       "          0,   0],\n",
       "       [  0,   0,   0,   0,   0,   0,   0,   0,   0,   0,   0,   0,  38,\n",
       "        254, 254,  77,   0,   0,   0,   0,   0,   0,   0,   0,   0,   0,\n",
       "          0,   0],\n",
       "       [  0,   0,   0,   0,   0,   0,   0,   0,   0,   0,   0,  31, 224,\n",
       "        254, 115,   1,   0,   0,   0,   0,   0,   0,   0,   0,   0,   0,\n",
       "          0,   0],\n",
       "       [  0,   0,   0,   0,   0,   0,   0,   0,   0,   0,   0, 133, 254,\n",
       "        254,  52,   0,   0,   0,   0,   0,   0,   0,   0,   0,   0,   0,\n",
       "          0,   0],\n",
       "       [  0,   0,   0,   0,   0,   0,   0,   0,   0,   0,  61, 242, 254,\n",
       "        254,  52,   0,   0,   0,   0,   0,   0,   0,   0,   0,   0,   0,\n",
       "          0,   0],\n",
       "       [  0,   0,   0,   0,   0,   0,   0,   0,   0,   0, 121, 254, 254,\n",
       "        219,  40,   0,   0,   0,   0,   0,   0,   0,   0,   0,   0,   0,\n",
       "          0,   0],\n",
       "       [  0,   0,   0,   0,   0,   0,   0,   0,   0,   0, 121, 254, 207,\n",
       "         18,   0,   0,   0,   0,   0,   0,   0,   0,   0,   0,   0,   0,\n",
       "          0,   0],\n",
       "       [  0,   0,   0,   0,   0,   0,   0,   0,   0,   0,   0,   0,   0,\n",
       "          0,   0,   0,   0,   0,   0,   0,   0,   0,   0,   0,   0,   0,\n",
       "          0,   0]], dtype=uint8)"
      ]
     },
     "execution_count": 9,
     "metadata": {},
     "output_type": "execute_result"
    }
   ],
   "source": [
    "X_valid[0]\n",
    "# These are the actual values of the pixels where 0 is white and 255 is black"
   ]
  },
  {
   "cell_type": "code",
   "execution_count": 10,
   "metadata": {},
   "outputs": [
    {
     "data": {
      "image/png": "[encoded data removed]",
      "text/plain": [
       "<Figure size 432x288 with 1 Axes>"
      ]
     },
     "metadata": {
      "needs_background": "light"
     },
     "output_type": "display_data"
    },
    {
     "name": "stdout",
     "output_type": "stream",
     "text": [
      "Actual Number: 7\n"
     ]
    }
   ],
   "source": [
    "plt.imshow(X_valid[0],cmap='Greys')\n",
    "plt.show()\n",
    "print(f'Actual Number: {y_valid[0]}')"
   ]
  },
  {
   "cell_type": "code",
   "execution_count": 11,
   "metadata": {},
   "outputs": [],
   "source": [
    "X_train = X_train.reshape(60000,784).astype('float32')\n",
    "X_valid = X_valid.reshape(10000,784).astype('float32')\n",
    "# Reshaping the training and testing inputs"
   ]
  },
  {
   "cell_type": "code",
   "execution_count": 12,
   "metadata": {},
   "outputs": [],
   "source": [
    "X_train /= 255\n",
    "X_valid /= 255\n",
    "# The values of the pixels are no longer integers from 0 to 255; they now range from 0 to 1"
   ]
  },
  {
   "cell_type": "code",
   "execution_count": 13,
   "metadata": {},
   "outputs": [
    {
     "data": {
      "text/plain": [
       "array([0.        , 0.        , 0.        , 0.        , 0.        ,\n",
       "       0.        , 0.        , 0.        , 0.        , 0.        ,\n",
       "       0.        , 0.        , 0.        , 0.        , 0.        ,\n",
       "       0.        , 0.        , 0.        , 0.        , 0.        ,\n",
       "       0.        , 0.        , 0.        , 0.        , 0.        ,\n",
       "       0.        , 0.        , 0.        , 0.        , 0.        ,\n",
       "       0.        , 0.        , 0.        , 0.        , 0.        ,\n",
       "       0.        , 0.        , 0.        , 0.        , 0.        ,\n",
       "       0.        , 0.        , 0.        , 0.        , 0.        ,\n",
       "       0.        , 0.        , 0.        , 0.        , 0.        ,\n",
       "       0.        , 0.        , 0.        , 0.        , 0.        ,\n",
       "       0.        , 0.        , 0.        , 0.        , 0.        ,\n",
       "       0.        , 0.        , 0.        , 0.        , 0.        ,\n",
       "       0.        , 0.        , 0.        , 0.        , 0.        ,\n",
       "       0.        , 0.        , 0.        , 0.        , 0.        ,\n",
       "       0.        , 0.        , 0.        , 0.        , 0.        ,\n",
       "       0.        , 0.        , 0.        , 0.        , 0.        ,\n",
       "       0.        , 0.        , 0.        , 0.        , 0.        ,\n",
       "       0.        , 0.        , 0.        , 0.        , 0.        ,\n",
       "       0.        , 0.        , 0.        , 0.        , 0.        ,\n",
       "       0.        , 0.        , 0.        , 0.        , 0.        ,\n",
       "       0.        , 0.        , 0.        , 0.        , 0.        ,\n",
       "       0.        , 0.        , 0.        , 0.        , 0.        ,\n",
       "       0.        , 0.        , 0.        , 0.        , 0.        ,\n",
       "       0.        , 0.        , 0.        , 0.        , 0.        ,\n",
       "       0.        , 0.        , 0.        , 0.        , 0.        ,\n",
       "       0.        , 0.        , 0.        , 0.        , 0.        ,\n",
       "       0.        , 0.        , 0.        , 0.        , 0.        ,\n",
       "       0.        , 0.        , 0.        , 0.        , 0.        ,\n",
       "       0.        , 0.        , 0.        , 0.        , 0.        ,\n",
       "       0.        , 0.        , 0.        , 0.        , 0.        ,\n",
       "       0.        , 0.        , 0.        , 0.        , 0.        ,\n",
       "       0.        , 0.        , 0.        , 0.        , 0.        ,\n",
       "       0.        , 0.        , 0.        , 0.        , 0.        ,\n",
       "       0.        , 0.        , 0.        , 0.        , 0.        ,\n",
       "       0.        , 0.        , 0.        , 0.        , 0.        ,\n",
       "       0.        , 0.        , 0.        , 0.        , 0.        ,\n",
       "       0.        , 0.        , 0.        , 0.        , 0.        ,\n",
       "       0.        , 0.        , 0.        , 0.        , 0.        ,\n",
       "       0.        , 0.        , 0.        , 0.        , 0.        ,\n",
       "       0.        , 0.        , 0.32941177, 0.7254902 , 0.62352943,\n",
       "       0.5921569 , 0.23529412, 0.14117648, 0.        , 0.        ,\n",
       "       0.        , 0.        , 0.        , 0.        , 0.        ,\n",
       "       0.        , 0.        , 0.        , 0.        , 0.        ,\n",
       "       0.        , 0.        , 0.        , 0.        , 0.        ,\n",
       "       0.        , 0.        , 0.        , 0.        , 0.        ,\n",
       "       0.87058824, 0.99607843, 0.99607843, 0.99607843, 0.99607843,\n",
       "       0.94509804, 0.7764706 , 0.7764706 , 0.7764706 , 0.7764706 ,\n",
       "       0.7764706 , 0.7764706 , 0.7764706 , 0.7764706 , 0.6666667 ,\n",
       "       0.20392157, 0.        , 0.        , 0.        , 0.        ,\n",
       "       0.        , 0.        , 0.        , 0.        , 0.        ,\n",
       "       0.        , 0.        , 0.        , 0.2627451 , 0.44705883,\n",
       "       0.28235295, 0.44705883, 0.6392157 , 0.8901961 , 0.99607843,\n",
       "       0.88235295, 0.99607843, 0.99607843, 0.99607843, 0.98039216,\n",
       "       0.8980392 , 0.99607843, 0.99607843, 0.54901963, 0.        ,\n",
       "       0.        , 0.        , 0.        , 0.        , 0.        ,\n",
       "       0.        , 0.        , 0.        , 0.        , 0.        ,\n",
       "       0.        , 0.        , 0.        , 0.        , 0.        ,\n",
       "       0.        , 0.06666667, 0.25882354, 0.05490196, 0.2627451 ,\n",
       "       0.2627451 , 0.2627451 , 0.23137255, 0.08235294, 0.9254902 ,\n",
       "       0.99607843, 0.41568628, 0.        , 0.        , 0.        ,\n",
       "       0.        , 0.        , 0.        , 0.        , 0.        ,\n",
       "       0.        , 0.        , 0.        , 0.        , 0.        ,\n",
       "       0.        , 0.        , 0.        , 0.        , 0.        ,\n",
       "       0.        , 0.        , 0.        , 0.        , 0.        ,\n",
       "       0.        , 0.3254902 , 0.99215686, 0.81960785, 0.07058824,\n",
       "       0.        , 0.        , 0.        , 0.        , 0.        ,\n",
       "       0.        , 0.        , 0.        , 0.        , 0.        ,\n",
       "       0.        , 0.        , 0.        , 0.        , 0.        ,\n",
       "       0.        , 0.        , 0.        , 0.        , 0.        ,\n",
       "       0.        , 0.        , 0.        , 0.08627451, 0.9137255 ,\n",
       "       1.        , 0.3254902 , 0.        , 0.        , 0.        ,\n",
       "       0.        , 0.        , 0.        , 0.        , 0.        ,\n",
       "       0.        , 0.        , 0.        , 0.        , 0.        ,\n",
       "       0.        , 0.        , 0.        , 0.        , 0.        ,\n",
       "       0.        , 0.        , 0.        , 0.        , 0.        ,\n",
       "       0.        , 0.5058824 , 0.99607843, 0.93333334, 0.17254902,\n",
       "       0.        , 0.        , 0.        , 0.        , 0.        ,\n",
       "       0.        , 0.        , 0.        , 0.        , 0.        ,\n",
       "       0.        , 0.        , 0.        , 0.        , 0.        ,\n",
       "       0.        , 0.        , 0.        , 0.        , 0.        ,\n",
       "       0.        , 0.        , 0.        , 0.23137255, 0.9764706 ,\n",
       "       0.99607843, 0.24313726, 0.        , 0.        , 0.        ,\n",
       "       0.        , 0.        , 0.        , 0.        , 0.        ,\n",
       "       0.        , 0.        , 0.        , 0.        , 0.        ,\n",
       "       0.        , 0.        , 0.        , 0.        , 0.        ,\n",
       "       0.        , 0.        , 0.        , 0.        , 0.        ,\n",
       "       0.        , 0.52156866, 0.99607843, 0.73333335, 0.01960784,\n",
       "       0.        , 0.        , 0.        , 0.        , 0.        ,\n",
       "       0.        , 0.        , 0.        , 0.        , 0.        ,\n",
       "       0.        , 0.        , 0.        , 0.        , 0.        ,\n",
       "       0.        , 0.        , 0.        , 0.        , 0.        ,\n",
       "       0.        , 0.        , 0.        , 0.03529412, 0.8039216 ,\n",
       "       0.972549  , 0.22745098, 0.        , 0.        , 0.        ,\n",
       "       0.        , 0.        , 0.        , 0.        , 0.        ,\n",
       "       0.        , 0.        , 0.        , 0.        , 0.        ,\n",
       "       0.        , 0.        , 0.        , 0.        , 0.        ,\n",
       "       0.        , 0.        , 0.        , 0.        , 0.        ,\n",
       "       0.        , 0.49411765, 0.99607843, 0.7137255 , 0.        ,\n",
       "       0.        , 0.        , 0.        , 0.        , 0.        ,\n",
       "       0.        , 0.        , 0.        , 0.        , 0.        ,\n",
       "       0.        , 0.        , 0.        , 0.        , 0.        ,\n",
       "       0.        , 0.        , 0.        , 0.        , 0.        ,\n",
       "       0.        , 0.        , 0.        , 0.29411766, 0.9843137 ,\n",
       "       0.9411765 , 0.22352941, 0.        , 0.        , 0.        ,\n",
       "       0.        , 0.        , 0.        , 0.        , 0.        ,\n",
       "       0.        , 0.        , 0.        , 0.        , 0.        ,\n",
       "       0.        , 0.        , 0.        , 0.        , 0.        ,\n",
       "       0.        , 0.        , 0.        , 0.        , 0.        ,\n",
       "       0.07450981, 0.8666667 , 0.99607843, 0.6509804 , 0.        ,\n",
       "       0.        , 0.        , 0.        , 0.        , 0.        ,\n",
       "       0.        , 0.        , 0.        , 0.        , 0.        ,\n",
       "       0.        , 0.        , 0.        , 0.        , 0.        ,\n",
       "       0.        , 0.        , 0.        , 0.        , 0.        ,\n",
       "       0.        , 0.        , 0.01176471, 0.79607844, 0.99607843,\n",
       "       0.85882354, 0.13725491, 0.        , 0.        , 0.        ,\n",
       "       0.        , 0.        , 0.        , 0.        , 0.        ,\n",
       "       0.        , 0.        , 0.        , 0.        , 0.        ,\n",
       "       0.        , 0.        , 0.        , 0.        , 0.        ,\n",
       "       0.        , 0.        , 0.        , 0.        , 0.        ,\n",
       "       0.14901961, 0.99607843, 0.99607843, 0.3019608 , 0.        ,\n",
       "       0.        , 0.        , 0.        , 0.        , 0.        ,\n",
       "       0.        , 0.        , 0.        , 0.        , 0.        ,\n",
       "       0.        , 0.        , 0.        , 0.        , 0.        ,\n",
       "       0.        , 0.        , 0.        , 0.        , 0.        ,\n",
       "       0.        , 0.        , 0.12156863, 0.8784314 , 0.99607843,\n",
       "       0.4509804 , 0.00392157, 0.        , 0.        , 0.        ,\n",
       "       0.        , 0.        , 0.        , 0.        , 0.        ,\n",
       "       0.        , 0.        , 0.        , 0.        , 0.        ,\n",
       "       0.        , 0.        , 0.        , 0.        , 0.        ,\n",
       "       0.        , 0.        , 0.        , 0.        , 0.        ,\n",
       "       0.52156866, 0.99607843, 0.99607843, 0.20392157, 0.        ,\n",
       "       0.        , 0.        , 0.        , 0.        , 0.        ,\n",
       "       0.        , 0.        , 0.        , 0.        , 0.        ,\n",
       "       0.        , 0.        , 0.        , 0.        , 0.        ,\n",
       "       0.        , 0.        , 0.        , 0.        , 0.        ,\n",
       "       0.        , 0.        , 0.23921569, 0.9490196 , 0.99607843,\n",
       "       0.99607843, 0.20392157, 0.        , 0.        , 0.        ,\n",
       "       0.        , 0.        , 0.        , 0.        , 0.        ,\n",
       "       0.        , 0.        , 0.        , 0.        , 0.        ,\n",
       "       0.        , 0.        , 0.        , 0.        , 0.        ,\n",
       "       0.        , 0.        , 0.        , 0.        , 0.        ,\n",
       "       0.4745098 , 0.99607843, 0.99607843, 0.85882354, 0.15686275,\n",
       "       0.        , 0.        , 0.        , 0.        , 0.        ,\n",
       "       0.        , 0.        , 0.        , 0.        , 0.        ,\n",
       "       0.        , 0.        , 0.        , 0.        , 0.        ,\n",
       "       0.        , 0.        , 0.        , 0.        , 0.        ,\n",
       "       0.        , 0.        , 0.        , 0.4745098 , 0.99607843,\n",
       "       0.8117647 , 0.07058824, 0.        , 0.        , 0.        ,\n",
       "       0.        , 0.        , 0.        , 0.        , 0.        ,\n",
       "       0.        , 0.        , 0.        , 0.        , 0.        ,\n",
       "       0.        , 0.        , 0.        , 0.        , 0.        ,\n",
       "       0.        , 0.        , 0.        , 0.        , 0.        ,\n",
       "       0.        , 0.        , 0.        , 0.        , 0.        ,\n",
       "       0.        , 0.        , 0.        , 0.        , 0.        ,\n",
       "       0.        , 0.        , 0.        , 0.        , 0.        ,\n",
       "       0.        , 0.        , 0.        , 0.        ], dtype=float32)"
      ]
     },
     "execution_count": 13,
     "metadata": {},
     "output_type": "execute_result"
    }
   ],
   "source": [
    "X_valid[0]\n",
    "# Other than proving the last cell, check out the new dimension"
   ]
  },
  {
   "cell_type": "code",
   "execution_count": 14,
   "metadata": {},
   "outputs": [],
   "source": [
    "n_classes = 10\n",
    "y_train = keras.utils.to_categorical(y_train, n_classes)\n",
    "y_valid = keras.utils.to_categorical(y_valid, n_classes)\n",
    "# Converting them from integers into one-hot encodings\n",
    "# n_classes = 10 because there are 10 possible digits"
   ]
  },
  {
   "cell_type": "code",
   "execution_count": 15,
   "metadata": {},
   "outputs": [
    {
     "data": {
      "text/plain": [
       "array([0., 0., 0., 0., 0., 0., 0., 1., 0., 0.], dtype=float32)"
      ]
     },
     "execution_count": 15,
     "metadata": {},
     "output_type": "execute_result"
    }
   ],
   "source": [
    "y_valid[0]\n",
    "# Notice how the 7 is now represented like a one-hot encoding (it is in index number 7) Binary encoding, sort of!?"
   ]
  },
  {
   "cell_type": "code",
   "execution_count": 16,
   "metadata": {},
   "outputs": [
    {
     "name": "stdout",
     "output_type": "stream",
     "text": [
      "WARNING:tensorflow:From C:\\Users\\alex\\Anaconda3\\lib\\site-packages\\keras\\backend\\tensorflow_backend.py:74: The name tf.get_default_graph is deprecated. Please use tf.compat.v1.get_default_graph instead.\n",
      "\n",
      "WARNING:tensorflow:From C:\\Users\\alex\\Anaconda3\\lib\\site-packages\\keras\\backend\\tensorflow_backend.py:517: The name tf.placeholder is deprecated. Please use tf.compat.v1.placeholder instead.\n",
      "\n",
      "WARNING:tensorflow:From C:\\Users\\alex\\Anaconda3\\lib\\site-packages\\keras\\backend\\tensorflow_backend.py:4138: The name tf.random_uniform is deprecated. Please use tf.random.uniform instead.\n",
      "\n"
     ]
    },
    {
     "data": {
      "text/plain": [
       "\"\\nCreating the network!!!\\n1. First line instantiates the simplest type of neural network model object, the sequential type\\n2. Second line adds the network's only hidden layer, with 64 neurons that use the sigmoid function; the 784 describes\\n   the shape of the input layer\\n3. Third line adds the output layer, 10 neurons (1 for each of the possible outcomes) of the softmax variety\\n\""
      ]
     },
     "execution_count": 16,
     "metadata": {},
     "output_type": "execute_result"
    }
   ],
   "source": [
    "model = Sequential()\n",
    "model.add(Dense(64, activation='sigmoid', input_shape = (784,)))\n",
    "model.add(Dense(10, activation = 'softmax'))\n",
    "\n",
    "'''\n",
    "Creating the network!!!\n",
    "1. First line instantiates the simplest type of neural network model object, the sequential type\n",
    "2. Second line adds the network's only hidden layer, with 64 neurons that use the sigmoid function; the 784 describes\n",
    "   the shape of the input layer\n",
    "3. Third line adds the output layer, 10 neurons (1 for each of the possible outcomes) of the softmax variety\n",
    "'''"
   ]
  },
  {
   "cell_type": "code",
   "execution_count": 17,
   "metadata": {},
   "outputs": [
    {
     "name": "stdout",
     "output_type": "stream",
     "text": [
      "_________________________________________________________________\n",
      "Layer (type)                 Output Shape              Param #   \n",
      "=================================================================\n",
      "dense_1 (Dense)              (None, 64)                50240     \n",
      "_________________________________________________________________\n",
      "dense_2 (Dense)              (None, 10)                650       \n",
      "=================================================================\n",
      "Total params: 50,890\n",
      "Trainable params: 50,890\n",
      "Non-trainable params: 0\n",
      "_________________________________________________________________\n"
     ]
    },
    {
     "data": {
      "text/plain": [
       "'\\nThe first number of parameters, 50240, is obtained by multiplying 784, the input shape, by 64, the number of neurons in the \\nhidden layer, and then adding 64. We multiply those numbers because we are dealing with a dense, fully connected network, so\\nall the neurons in one layer are connected to the rest. Those are the weights. There is also one bias per neuron in the \\nhidden layer so that is why we add the 64.\\n\\nThe second number of parameters, 650, is obtained by 64 * 10 + 10. Use the same logic as above.\\n\\nWe specified no hyper-parameters.\\n'"
      ]
     },
     "execution_count": 17,
     "metadata": {},
     "output_type": "execute_result"
    }
   ],
   "source": [
    "model.summary()\n",
    "'''\n",
    "The first number of parameters, 50240, is obtained by multiplying 784, the input shape, by 64, the number of neurons in the \n",
    "hidden layer, and then adding 64. We multiply those numbers because we are dealing with a dense, fully connected network, so\n",
    "all the neurons in one layer are connected to the rest. Those are the weights. There is also one bias per neuron in the \n",
    "hidden layer so that is why we add the 64.\n",
    "\n",
    "The second number of parameters, 650, is obtained by 64 * 10 + 10. Use the same logic as above.\n",
    "\n",
    "We specified no hyper-parameters.\n",
    "'''"
   ]
  },
  {
   "cell_type": "code",
   "execution_count": 18,
   "metadata": {},
   "outputs": [
    {
     "name": "stdout",
     "output_type": "stream",
     "text": [
      "WARNING:tensorflow:From C:\\Users\\alex\\Anaconda3\\lib\\site-packages\\keras\\optimizers.py:790: The name tf.train.Optimizer is deprecated. Please use tf.compat.v1.train.Optimizer instead.\n",
      "\n"
     ]
    }
   ],
   "source": [
    "model.compile(loss='mean_squared_error', optimizer=SGD(lr=0.01), metrics=['accuracy'])\n",
    "# THIS IS OUT OF ORDER IN THE BOOK, I RAN THIS HERE BECAUSE THE NEXT CELL WILL GIVE AN ERROR IF I DON'T RUN THIS"
   ]
  },
  {
   "cell_type": "code",
   "execution_count": 19,
   "metadata": {},
   "outputs": [
    {
     "name": "stdout",
     "output_type": "stream",
     "text": [
      "WARNING:tensorflow:From C:\\Users\\alex\\Anaconda3\\lib\\site-packages\\keras\\backend\\tensorflow_backend.py:986: The name tf.assign_add is deprecated. Please use tf.compat.v1.assign_add instead.\n",
      "\n",
      "WARNING:tensorflow:From C:\\Users\\alex\\Anaconda3\\lib\\site-packages\\keras\\backend\\tensorflow_backend.py:973: The name tf.assign is deprecated. Please use tf.compat.v1.assign instead.\n",
      "\n",
      "WARNING:tensorflow:From C:\\Users\\alex\\Anaconda3\\lib\\site-packages\\keras\\backend\\tensorflow_backend.py:2741: The name tf.Session is deprecated. Please use tf.compat.v1.Session instead.\n",
      "\n",
      "Train on 60000 samples, validate on 10000 samples\n",
      "Epoch 1/200\n",
      "WARNING:tensorflow:From C:\\Users\\alex\\Anaconda3\\lib\\site-packages\\keras\\backend\\tensorflow_backend.py:174: The name tf.get_default_session is deprecated. Please use tf.compat.v1.get_default_session instead.\n",
      "\n",
      "WARNING:tensorflow:From C:\\Users\\alex\\Anaconda3\\lib\\site-packages\\keras\\backend\\tensorflow_backend.py:181: The name tf.ConfigProto is deprecated. Please use tf.compat.v1.ConfigProto instead.\n",
      "\n",
      "WARNING:tensorflow:From C:\\Users\\alex\\Anaconda3\\lib\\site-packages\\keras\\backend\\tensorflow_backend.py:190: The name tf.global_variables is deprecated. Please use tf.compat.v1.global_variables instead.\n",
      "\n",
      "WARNING:tensorflow:From C:\\Users\\alex\\Anaconda3\\lib\\site-packages\\keras\\backend\\tensorflow_backend.py:199: The name tf.is_variable_initialized is deprecated. Please use tf.compat.v1.is_variable_initialized instead.\n",
      "\n",
      "WARNING:tensorflow:From C:\\Users\\alex\\Anaconda3\\lib\\site-packages\\keras\\backend\\tensorflow_backend.py:206: The name tf.variables_initializer is deprecated. Please use tf.compat.v1.variables_initializer instead.\n",
      "\n",
      "60000/60000 [==============================] - 1s 23us/step - loss: 0.0920 - acc: 0.0792 - val_loss: 0.0916 - val_acc: 0.0969\n",
      "Epoch 2/200\n",
      "60000/60000 [==============================] - 1s 19us/step - loss: 0.0913 - acc: 0.1089 - val_loss: 0.0910 - val_acc: 0.1317\n",
      "Epoch 3/200\n",
      "60000/60000 [==============================] - 1s 19us/step - loss: 0.0907 - acc: 0.1402 - val_loss: 0.0905 - val_acc: 0.1640\n",
      "Epoch 4/200\n",
      "60000/60000 [==============================] - 1s 20us/step - loss: 0.0902 - acc: 0.1693 - val_loss: 0.0900 - val_acc: 0.1880\n",
      "Epoch 5/200\n",
      "60000/60000 [==============================] - 1s 22us/step - loss: 0.0898 - acc: 0.1917 - val_loss: 0.0896 - val_acc: 0.2051\n",
      "Epoch 6/200\n",
      "60000/60000 [==============================] - 1s 18us/step - loss: 0.0894 - acc: 0.2093 - val_loss: 0.0892 - val_acc: 0.2200\n",
      "Epoch 7/200\n",
      "60000/60000 [==============================] - 1s 18us/step - loss: 0.0891 - acc: 0.2231 - val_loss: 0.0889 - val_acc: 0.2358\n",
      "Epoch 8/200\n",
      "60000/60000 [==============================] - 1s 17us/step - loss: 0.0887 - acc: 0.2402 - val_loss: 0.0886 - val_acc: 0.2536\n",
      "Epoch 9/200\n",
      "60000/60000 [==============================] - 1s 17us/step - loss: 0.0884 - acc: 0.2617 - val_loss: 0.0883 - val_acc: 0.2758\n",
      "Epoch 10/200\n",
      "60000/60000 [==============================] - 1s 23us/step - loss: 0.0882 - acc: 0.2823 - val_loss: 0.0880 - val_acc: 0.2971\n",
      "Epoch 11/200\n",
      "60000/60000 [==============================] - 1s 20us/step - loss: 0.0879 - acc: 0.3049 - val_loss: 0.0877 - val_acc: 0.3175\n",
      "Epoch 12/200\n",
      "60000/60000 [==============================] - 1s 17us/step - loss: 0.0876 - acc: 0.3256 - val_loss: 0.0874 - val_acc: 0.3418\n",
      "Epoch 13/200\n",
      "60000/60000 [==============================] - 1s 17us/step - loss: 0.0873 - acc: 0.3524 - val_loss: 0.0871 - val_acc: 0.3714\n",
      "Epoch 14/200\n",
      "60000/60000 [==============================] - 1s 20us/step - loss: 0.0870 - acc: 0.3855 - val_loss: 0.0868 - val_acc: 0.4056\n",
      "Epoch 15/200\n",
      "60000/60000 [==============================] - 1s 17us/step - loss: 0.0867 - acc: 0.4179 - val_loss: 0.0865 - val_acc: 0.4336\n",
      "Epoch 16/200\n",
      "60000/60000 [==============================] - 1s 19us/step - loss: 0.0865 - acc: 0.4429 - val_loss: 0.0862 - val_acc: 0.4584\n",
      "Epoch 17/200\n",
      "60000/60000 [==============================] - 1s 17us/step - loss: 0.0862 - acc: 0.4612 - val_loss: 0.0859 - val_acc: 0.4719\n",
      "Epoch 18/200\n",
      "60000/60000 [==============================] - 1s 17us/step - loss: 0.0859 - acc: 0.4724 - val_loss: 0.0856 - val_acc: 0.4770\n",
      "Epoch 19/200\n",
      "60000/60000 [==============================] - 1s 17us/step - loss: 0.0855 - acc: 0.4775 - val_loss: 0.0853 - val_acc: 0.4822\n",
      "Epoch 20/200\n",
      "60000/60000 [==============================] - 1s 17us/step - loss: 0.0852 - acc: 0.4803 - val_loss: 0.0850 - val_acc: 0.4839\n",
      "Epoch 21/200\n",
      "60000/60000 [==============================] - 1s 16us/step - loss: 0.0849 - acc: 0.4816 - val_loss: 0.0847 - val_acc: 0.4856\n",
      "Epoch 22/200\n",
      "60000/60000 [==============================] - 1s 15us/step - loss: 0.0846 - acc: 0.4822 - val_loss: 0.0843 - val_acc: 0.4852\n",
      "Epoch 23/200\n",
      "60000/60000 [==============================] - 1s 15us/step - loss: 0.0842 - acc: 0.4813 - val_loss: 0.0840 - val_acc: 0.4842\n",
      "Epoch 24/200\n",
      "60000/60000 [==============================] - 1s 15us/step - loss: 0.0839 - acc: 0.4818 - val_loss: 0.0836 - val_acc: 0.4838\n",
      "Epoch 25/200\n",
      "60000/60000 [==============================] - 1s 16us/step - loss: 0.0835 - acc: 0.4798 - val_loss: 0.0832 - val_acc: 0.4836\n",
      "Epoch 26/200\n",
      "60000/60000 [==============================] - 1s 18us/step - loss: 0.0831 - acc: 0.4796 - val_loss: 0.0828 - val_acc: 0.4828\n",
      "Epoch 27/200\n",
      "60000/60000 [==============================] - 1s 15us/step - loss: 0.0828 - acc: 0.4781 - val_loss: 0.0825 - val_acc: 0.4828\n",
      "Epoch 28/200\n",
      "60000/60000 [==============================] - 1s 17us/step - loss: 0.0824 - acc: 0.4777 - val_loss: 0.0821 - val_acc: 0.4825\n",
      "Epoch 29/200\n",
      "60000/60000 [==============================] - 1s 19us/step - loss: 0.0820 - acc: 0.4763 - val_loss: 0.0816 - val_acc: 0.4824\n",
      "Epoch 30/200\n",
      "60000/60000 [==============================] - 1s 16us/step - loss: 0.0816 - acc: 0.4762 - val_loss: 0.0812 - val_acc: 0.4832\n",
      "Epoch 31/200\n",
      "60000/60000 [==============================] - 1s 22us/step - loss: 0.0812 - acc: 0.4764 - val_loss: 0.0808 - val_acc: 0.4840\n",
      "Epoch 32/200\n",
      "60000/60000 [==============================] - 1s 22us/step - loss: 0.0807 - acc: 0.4766 - val_loss: 0.0804 - val_acc: 0.4844\n",
      "Epoch 33/200\n",
      "60000/60000 [==============================] - 1s 20us/step - loss: 0.0803 - acc: 0.4775 - val_loss: 0.0799 - val_acc: 0.4840\n",
      "Epoch 34/200\n",
      "60000/60000 [==============================] - 1s 18us/step - loss: 0.0799 - acc: 0.4780 - val_loss: 0.0795 - val_acc: 0.4850\n",
      "Epoch 35/200\n",
      "60000/60000 [==============================] - 1s 24us/step - loss: 0.0794 - acc: 0.4781 - val_loss: 0.0790 - val_acc: 0.4867\n",
      "Epoch 36/200\n",
      "60000/60000 [==============================] - 1s 20us/step - loss: 0.0790 - acc: 0.4800 - val_loss: 0.0785 - val_acc: 0.4878\n",
      "Epoch 37/200\n",
      "60000/60000 [==============================] - 1s 18us/step - loss: 0.0785 - acc: 0.4818 - val_loss: 0.0781 - val_acc: 0.4891\n",
      "Epoch 38/200\n",
      "60000/60000 [==============================] - 1s 23us/step - loss: 0.0780 - acc: 0.4836 - val_loss: 0.0776 - val_acc: 0.4915\n",
      "Epoch 39/200\n",
      "60000/60000 [==============================] - 2s 27us/step - loss: 0.0776 - acc: 0.4852 - val_loss: 0.0771 - val_acc: 0.4946\n",
      "Epoch 40/200\n",
      "60000/60000 [==============================] - 1s 21us/step - loss: 0.0771 - acc: 0.4879 - val_loss: 0.0766 - val_acc: 0.4975\n",
      "Epoch 41/200\n",
      "60000/60000 [==============================] - 1s 19us/step - loss: 0.0766 - acc: 0.4904 - val_loss: 0.0761 - val_acc: 0.4994\n",
      "Epoch 42/200\n",
      "60000/60000 [==============================] - 1s 17us/step - loss: 0.0761 - acc: 0.4930 - val_loss: 0.0756 - val_acc: 0.5019\n",
      "Epoch 43/200\n",
      "60000/60000 [==============================] - 1s 22us/step - loss: 0.0756 - acc: 0.4953 - val_loss: 0.0751 - val_acc: 0.5048\n",
      "Epoch 44/200\n",
      "60000/60000 [==============================] - 1s 18us/step - loss: 0.0751 - acc: 0.4990 - val_loss: 0.0746 - val_acc: 0.5086\n",
      "Epoch 45/200\n",
      "60000/60000 [==============================] - 1s 15us/step - loss: 0.0746 - acc: 0.5011 - val_loss: 0.0741 - val_acc: 0.5117\n",
      "Epoch 46/200\n",
      "60000/60000 [==============================] - 1s 16us/step - loss: 0.0741 - acc: 0.5049 - val_loss: 0.0736 - val_acc: 0.5148\n",
      "Epoch 47/200\n",
      "60000/60000 [==============================] - 1s 16us/step - loss: 0.0736 - acc: 0.5091 - val_loss: 0.0731 - val_acc: 0.5189\n",
      "Epoch 48/200\n"
     ]
    },
    {
     "name": "stdout",
     "output_type": "stream",
     "text": [
      "60000/60000 [==============================] - 1s 16us/step - loss: 0.0731 - acc: 0.5127 - val_loss: 0.0726 - val_acc: 0.5221\n",
      "Epoch 49/200\n",
      "60000/60000 [==============================] - 1s 15us/step - loss: 0.0726 - acc: 0.5157 - val_loss: 0.0720 - val_acc: 0.5263\n",
      "Epoch 50/200\n",
      "60000/60000 [==============================] - 1s 15us/step - loss: 0.0721 - acc: 0.5207 - val_loss: 0.0715 - val_acc: 0.5304\n",
      "Epoch 51/200\n",
      "60000/60000 [==============================] - 1s 17us/step - loss: 0.0716 - acc: 0.5256 - val_loss: 0.0710 - val_acc: 0.5350\n",
      "Epoch 52/200\n",
      "60000/60000 [==============================] - 1s 18us/step - loss: 0.0711 - acc: 0.5288 - val_loss: 0.0705 - val_acc: 0.5397\n",
      "Epoch 53/200\n",
      "60000/60000 [==============================] - 1s 19us/step - loss: 0.0706 - acc: 0.5336 - val_loss: 0.0700 - val_acc: 0.5441\n",
      "Epoch 54/200\n",
      "60000/60000 [==============================] - 1s 22us/step - loss: 0.0701 - acc: 0.5377 - val_loss: 0.0695 - val_acc: 0.5483\n",
      "Epoch 55/200\n",
      "60000/60000 [==============================] - 1s 15us/step - loss: 0.0695 - acc: 0.5428 - val_loss: 0.0690 - val_acc: 0.5539\n",
      "Epoch 56/200\n",
      "60000/60000 [==============================] - 1s 15us/step - loss: 0.0690 - acc: 0.5474 - val_loss: 0.0684 - val_acc: 0.5597\n",
      "Epoch 57/200\n",
      "60000/60000 [==============================] - 1s 17us/step - loss: 0.0685 - acc: 0.5520 - val_loss: 0.0679 - val_acc: 0.5642\n",
      "Epoch 58/200\n",
      "60000/60000 [==============================] - 1s 16us/step - loss: 0.0680 - acc: 0.5568 - val_loss: 0.0674 - val_acc: 0.5679\n",
      "Epoch 59/200\n",
      "60000/60000 [==============================] - 1s 19us/step - loss: 0.0676 - acc: 0.5623 - val_loss: 0.0669 - val_acc: 0.5734\n",
      "Epoch 60/200\n",
      "60000/60000 [==============================] - 1s 16us/step - loss: 0.0671 - acc: 0.5679 - val_loss: 0.0664 - val_acc: 0.5781\n",
      "Epoch 61/200\n",
      "60000/60000 [==============================] - 1s 18us/step - loss: 0.0666 - acc: 0.5730 - val_loss: 0.0659 - val_acc: 0.5838\n",
      "Epoch 62/200\n",
      "60000/60000 [==============================] - 1s 15us/step - loss: 0.0661 - acc: 0.5784 - val_loss: 0.0654 - val_acc: 0.5883\n",
      "Epoch 63/200\n",
      "60000/60000 [==============================] - 1s 15us/step - loss: 0.0656 - acc: 0.5840 - val_loss: 0.0650 - val_acc: 0.5924\n",
      "Epoch 64/200\n",
      "60000/60000 [==============================] - 1s 15us/step - loss: 0.0651 - acc: 0.5905 - val_loss: 0.0645 - val_acc: 0.5996\n",
      "Epoch 65/200\n",
      "60000/60000 [==============================] - 1s 19us/step - loss: 0.0646 - acc: 0.5964 - val_loss: 0.0640 - val_acc: 0.6054\n",
      "Epoch 66/200\n",
      "60000/60000 [==============================] - 1s 19us/step - loss: 0.0642 - acc: 0.6021 - val_loss: 0.0635 - val_acc: 0.6108\n",
      "Epoch 67/200\n",
      "60000/60000 [==============================] - 1s 17us/step - loss: 0.0637 - acc: 0.6084 - val_loss: 0.0630 - val_acc: 0.6174\n",
      "Epoch 68/200\n",
      "60000/60000 [==============================] - 1s 15us/step - loss: 0.0632 - acc: 0.6139 - val_loss: 0.0626 - val_acc: 0.6236\n",
      "Epoch 69/200\n",
      "60000/60000 [==============================] - 1s 15us/step - loss: 0.0628 - acc: 0.6195 - val_loss: 0.0621 - val_acc: 0.6289\n",
      "Epoch 70/200\n",
      "60000/60000 [==============================] - 1s 21us/step - loss: 0.0623 - acc: 0.6251 - val_loss: 0.0616 - val_acc: 0.6345\n",
      "Epoch 71/200\n",
      "60000/60000 [==============================] - 1s 15us/step - loss: 0.0618 - acc: 0.6298 - val_loss: 0.0611 - val_acc: 0.6410\n",
      "Epoch 72/200\n",
      "60000/60000 [==============================] - 1s 15us/step - loss: 0.0614 - acc: 0.6360 - val_loss: 0.0607 - val_acc: 0.6463\n",
      "Epoch 73/200\n",
      "60000/60000 [==============================] - 1s 15us/step - loss: 0.0609 - acc: 0.6409 - val_loss: 0.0602 - val_acc: 0.6515\n",
      "Epoch 74/200\n",
      "60000/60000 [==============================] - 1s 16us/step - loss: 0.0605 - acc: 0.6458 - val_loss: 0.0598 - val_acc: 0.6569\n",
      "Epoch 75/200\n",
      "60000/60000 [==============================] - 1s 16us/step - loss: 0.0600 - acc: 0.6510 - val_loss: 0.0593 - val_acc: 0.6618\n",
      "Epoch 76/200\n",
      "60000/60000 [==============================] - 1s 16us/step - loss: 0.0596 - acc: 0.6555 - val_loss: 0.0589 - val_acc: 0.6659\n",
      "Epoch 77/200\n",
      "60000/60000 [==============================] - 1s 15us/step - loss: 0.0591 - acc: 0.6597 - val_loss: 0.0584 - val_acc: 0.6705\n",
      "Epoch 78/200\n",
      "60000/60000 [==============================] - 1s 15us/step - loss: 0.0587 - acc: 0.6643 - val_loss: 0.0580 - val_acc: 0.6733\n",
      "Epoch 79/200\n",
      "60000/60000 [==============================] - 1s 15us/step - loss: 0.0583 - acc: 0.6692 - val_loss: 0.0576 - val_acc: 0.6781\n",
      "Epoch 80/200\n",
      "60000/60000 [==============================] - 1s 15us/step - loss: 0.0579 - acc: 0.6736 - val_loss: 0.0571 - val_acc: 0.6823\n",
      "Epoch 81/200\n",
      "60000/60000 [==============================] - 1s 15us/step - loss: 0.0574 - acc: 0.6777 - val_loss: 0.0567 - val_acc: 0.6866\n",
      "Epoch 82/200\n",
      "60000/60000 [==============================] - 1s 15us/step - loss: 0.0570 - acc: 0.6814 - val_loss: 0.0563 - val_acc: 0.6893\n",
      "Epoch 83/200\n",
      "60000/60000 [==============================] - 1s 15us/step - loss: 0.0566 - acc: 0.6853 - val_loss: 0.0558 - val_acc: 0.6941\n",
      "Epoch 84/200\n",
      "60000/60000 [==============================] - 1s 15us/step - loss: 0.0562 - acc: 0.6890 - val_loss: 0.0554 - val_acc: 0.6984\n",
      "Epoch 85/200\n",
      "60000/60000 [==============================] - 1s 15us/step - loss: 0.0558 - acc: 0.6930 - val_loss: 0.0550 - val_acc: 0.7018\n",
      "Epoch 86/200\n",
      "60000/60000 [==============================] - 1s 15us/step - loss: 0.0554 - acc: 0.6965 - val_loss: 0.0546 - val_acc: 0.7055\n",
      "Epoch 87/200\n",
      "60000/60000 [==============================] - 1s 20us/step - loss: 0.0550 - acc: 0.6994 - val_loss: 0.0542 - val_acc: 0.7091\n",
      "Epoch 88/200\n",
      "60000/60000 [==============================] - 1s 15us/step - loss: 0.0546 - acc: 0.7027 - val_loss: 0.0538 - val_acc: 0.7114\n",
      "Epoch 89/200\n",
      "60000/60000 [==============================] - 1s 15us/step - loss: 0.0542 - acc: 0.7056 - val_loss: 0.0534 - val_acc: 0.7146\n",
      "Epoch 90/200\n",
      "60000/60000 [==============================] - 1s 22us/step - loss: 0.0538 - acc: 0.7087 - val_loss: 0.0530 - val_acc: 0.7175\n",
      "Epoch 91/200\n",
      "60000/60000 [==============================] - 1s 15us/step - loss: 0.0534 - acc: 0.7112 - val_loss: 0.0526 - val_acc: 0.7214\n",
      "Epoch 92/200\n",
      "60000/60000 [==============================] - 1s 15us/step - loss: 0.0530 - acc: 0.7139 - val_loss: 0.0522 - val_acc: 0.7251\n",
      "Epoch 93/200\n",
      "60000/60000 [==============================] - 1s 14us/step - loss: 0.0526 - acc: 0.7168 - val_loss: 0.0518 - val_acc: 0.7280\n",
      "Epoch 94/200\n",
      "60000/60000 [==============================] - 1s 15us/step - loss: 0.0522 - acc: 0.7186 - val_loss: 0.0515 - val_acc: 0.7310\n",
      "Epoch 95/200\n",
      "60000/60000 [==============================] - 1s 15us/step - loss: 0.0519 - acc: 0.7218 - val_loss: 0.0511 - val_acc: 0.7345\n",
      "Epoch 96/200\n",
      "60000/60000 [==============================] - 1s 15us/step - loss: 0.0515 - acc: 0.7243 - val_loss: 0.0507 - val_acc: 0.7375\n",
      "Epoch 97/200\n",
      "60000/60000 [==============================] - 1s 15us/step - loss: 0.0511 - acc: 0.7266 - val_loss: 0.0503 - val_acc: 0.7395\n",
      "Epoch 98/200\n",
      "60000/60000 [==============================] - 1s 15us/step - loss: 0.0508 - acc: 0.7291 - val_loss: 0.0500 - val_acc: 0.7414\n",
      "Epoch 99/200\n",
      "60000/60000 [==============================] - 1s 15us/step - loss: 0.0504 - acc: 0.7313 - val_loss: 0.0496 - val_acc: 0.7443\n",
      "Epoch 100/200\n",
      "60000/60000 [==============================] - 1s 15us/step - loss: 0.0501 - acc: 0.7332 - val_loss: 0.0493 - val_acc: 0.7468\n",
      "Epoch 101/200\n",
      "60000/60000 [==============================] - 1s 15us/step - loss: 0.0497 - acc: 0.7350 - val_loss: 0.0489 - val_acc: 0.7480\n",
      "Epoch 102/200\n",
      "60000/60000 [==============================] - 1s 15us/step - loss: 0.0494 - acc: 0.7372 - val_loss: 0.0486 - val_acc: 0.7505\n",
      "Epoch 103/200\n",
      "60000/60000 [==============================] - 1s 15us/step - loss: 0.0491 - acc: 0.7389 - val_loss: 0.0482 - val_acc: 0.7523\n",
      "Epoch 104/200\n",
      "60000/60000 [==============================] - 1s 20us/step - loss: 0.0487 - acc: 0.7405 - val_loss: 0.0479 - val_acc: 0.7543\n",
      "Epoch 105/200\n",
      "60000/60000 [==============================] - 1s 15us/step - loss: 0.0484 - acc: 0.7422 - val_loss: 0.0476 - val_acc: 0.7572\n",
      "Epoch 106/200\n",
      "60000/60000 [==============================] - 1s 15us/step - loss: 0.0481 - acc: 0.7443 - val_loss: 0.0472 - val_acc: 0.7590\n"
     ]
    },
    {
     "name": "stdout",
     "output_type": "stream",
     "text": [
      "Epoch 107/200\n",
      "60000/60000 [==============================] - 1s 15us/step - loss: 0.0478 - acc: 0.7458 - val_loss: 0.0469 - val_acc: 0.7606\n",
      "Epoch 108/200\n",
      "60000/60000 [==============================] - 1s 15us/step - loss: 0.0474 - acc: 0.7470 - val_loss: 0.0466 - val_acc: 0.7622\n",
      "Epoch 109/200\n",
      "60000/60000 [==============================] - 1s 15us/step - loss: 0.0471 - acc: 0.7484 - val_loss: 0.0463 - val_acc: 0.7635\n",
      "Epoch 110/200\n",
      "60000/60000 [==============================] - 1s 15us/step - loss: 0.0468 - acc: 0.7500 - val_loss: 0.0460 - val_acc: 0.7652\n",
      "Epoch 111/200\n",
      "60000/60000 [==============================] - 1s 14us/step - loss: 0.0465 - acc: 0.7517 - val_loss: 0.0457 - val_acc: 0.7660\n",
      "Epoch 112/200\n",
      "60000/60000 [==============================] - 1s 15us/step - loss: 0.0462 - acc: 0.7531 - val_loss: 0.0454 - val_acc: 0.7681\n",
      "Epoch 113/200\n",
      "60000/60000 [==============================] - 1s 15us/step - loss: 0.0459 - acc: 0.7541 - val_loss: 0.0451 - val_acc: 0.7700\n",
      "Epoch 114/200\n",
      "60000/60000 [==============================] - 1s 15us/step - loss: 0.0456 - acc: 0.7559 - val_loss: 0.0448 - val_acc: 0.7706\n",
      "Epoch 115/200\n",
      "60000/60000 [==============================] - 1s 15us/step - loss: 0.0453 - acc: 0.7569 - val_loss: 0.0445 - val_acc: 0.7715\n",
      "Epoch 116/200\n",
      "60000/60000 [==============================] - 1s 15us/step - loss: 0.0451 - acc: 0.7583 - val_loss: 0.0442 - val_acc: 0.7723\n",
      "Epoch 117/200\n",
      "60000/60000 [==============================] - 1s 15us/step - loss: 0.0448 - acc: 0.7594 - val_loss: 0.0439 - val_acc: 0.7738\n",
      "Epoch 118/200\n",
      "60000/60000 [==============================] - 1s 15us/step - loss: 0.0445 - acc: 0.7610 - val_loss: 0.0436 - val_acc: 0.7748\n",
      "Epoch 119/200\n",
      "60000/60000 [==============================] - 1s 15us/step - loss: 0.0442 - acc: 0.7621 - val_loss: 0.0434 - val_acc: 0.7764\n",
      "Epoch 120/200\n",
      "60000/60000 [==============================] - 1s 15us/step - loss: 0.0440 - acc: 0.7631 - val_loss: 0.0431 - val_acc: 0.7768\n",
      "Epoch 121/200\n",
      "60000/60000 [==============================] - 1s 15us/step - loss: 0.0437 - acc: 0.7639 - val_loss: 0.0428 - val_acc: 0.7774\n",
      "Epoch 122/200\n",
      "60000/60000 [==============================] - 1s 21us/step - loss: 0.0434 - acc: 0.7650 - val_loss: 0.0425 - val_acc: 0.7786\n",
      "Epoch 123/200\n",
      "60000/60000 [==============================] - 1s 16us/step - loss: 0.0432 - acc: 0.7659 - val_loss: 0.0423 - val_acc: 0.7795\n",
      "Epoch 124/200\n",
      "60000/60000 [==============================] - 1s 15us/step - loss: 0.0429 - acc: 0.7672 - val_loss: 0.0420 - val_acc: 0.7805\n",
      "Epoch 125/200\n",
      "60000/60000 [==============================] - 1s 15us/step - loss: 0.0427 - acc: 0.7678 - val_loss: 0.0418 - val_acc: 0.7816\n",
      "Epoch 126/200\n",
      "60000/60000 [==============================] - 1s 15us/step - loss: 0.0424 - acc: 0.7689 - val_loss: 0.0415 - val_acc: 0.7817\n",
      "Epoch 127/200\n",
      "60000/60000 [==============================] - 1s 15us/step - loss: 0.0422 - acc: 0.7697 - val_loss: 0.0413 - val_acc: 0.7822\n",
      "Epoch 128/200\n",
      "60000/60000 [==============================] - 1s 15us/step - loss: 0.0419 - acc: 0.7704 - val_loss: 0.0410 - val_acc: 0.7829\n",
      "Epoch 129/200\n",
      "60000/60000 [==============================] - 1s 15us/step - loss: 0.0417 - acc: 0.7712 - val_loss: 0.0408 - val_acc: 0.7841\n",
      "Epoch 130/200\n",
      "60000/60000 [==============================] - 1s 15us/step - loss: 0.0414 - acc: 0.7722 - val_loss: 0.0405 - val_acc: 0.7846\n",
      "Epoch 131/200\n",
      "60000/60000 [==============================] - 1s 15us/step - loss: 0.0412 - acc: 0.7728 - val_loss: 0.0403 - val_acc: 0.7853\n",
      "Epoch 132/200\n",
      "60000/60000 [==============================] - 1s 15us/step - loss: 0.0410 - acc: 0.7738 - val_loss: 0.0401 - val_acc: 0.7864\n",
      "Epoch 133/200\n",
      "60000/60000 [==============================] - 1s 15us/step - loss: 0.0407 - acc: 0.7743 - val_loss: 0.0398 - val_acc: 0.7871\n",
      "Epoch 134/200\n",
      "60000/60000 [==============================] - 1s 15us/step - loss: 0.0405 - acc: 0.7753 - val_loss: 0.0396 - val_acc: 0.7880\n",
      "Epoch 135/200\n",
      "60000/60000 [==============================] - 1s 15us/step - loss: 0.0403 - acc: 0.7760 - val_loss: 0.0394 - val_acc: 0.7887\n",
      "Epoch 136/200\n",
      "60000/60000 [==============================] - 1s 15us/step - loss: 0.0401 - acc: 0.7769 - val_loss: 0.0391 - val_acc: 0.7892\n",
      "Epoch 137/200\n",
      "60000/60000 [==============================] - 1s 15us/step - loss: 0.0398 - acc: 0.7775 - val_loss: 0.0389 - val_acc: 0.7897\n",
      "Epoch 138/200\n",
      "60000/60000 [==============================] - 1s 16us/step - loss: 0.0396 - acc: 0.7781 - val_loss: 0.0387 - val_acc: 0.7913\n",
      "Epoch 139/200\n",
      "60000/60000 [==============================] - 1s 22us/step - loss: 0.0394 - acc: 0.7787 - val_loss: 0.0385 - val_acc: 0.7919\n",
      "Epoch 140/200\n",
      "60000/60000 [==============================] - 1s 15us/step - loss: 0.0392 - acc: 0.7795 - val_loss: 0.0383 - val_acc: 0.7923\n",
      "Epoch 141/200\n",
      "60000/60000 [==============================] - 1s 15us/step - loss: 0.0390 - acc: 0.7803 - val_loss: 0.0380 - val_acc: 0.7930\n",
      "Epoch 142/200\n",
      "60000/60000 [==============================] - 1s 15us/step - loss: 0.0388 - acc: 0.7807 - val_loss: 0.0378 - val_acc: 0.7941\n",
      "Epoch 143/200\n",
      "60000/60000 [==============================] - 1s 15us/step - loss: 0.0386 - acc: 0.7816 - val_loss: 0.0376 - val_acc: 0.7953\n",
      "Epoch 144/200\n",
      "60000/60000 [==============================] - 1s 15us/step - loss: 0.0384 - acc: 0.7824 - val_loss: 0.0374 - val_acc: 0.7956\n",
      "Epoch 145/200\n",
      "60000/60000 [==============================] - 1s 15us/step - loss: 0.0382 - acc: 0.7830 - val_loss: 0.0372 - val_acc: 0.7962\n",
      "Epoch 146/200\n",
      "60000/60000 [==============================] - 1s 15us/step - loss: 0.0380 - acc: 0.7838 - val_loss: 0.0370 - val_acc: 0.7969\n",
      "Epoch 147/200\n",
      "60000/60000 [==============================] - 1s 15us/step - loss: 0.0378 - acc: 0.7849 - val_loss: 0.0368 - val_acc: 0.7974\n",
      "Epoch 148/200\n",
      "60000/60000 [==============================] - 1s 16us/step - loss: 0.0376 - acc: 0.7860 - val_loss: 0.0366 - val_acc: 0.7979\n",
      "Epoch 149/200\n",
      "60000/60000 [==============================] - 1s 15us/step - loss: 0.0374 - acc: 0.7870 - val_loss: 0.0364 - val_acc: 0.7984\n",
      "Epoch 150/200\n",
      "60000/60000 [==============================] - 1s 15us/step - loss: 0.0372 - acc: 0.7877 - val_loss: 0.0362 - val_acc: 0.7994\n",
      "Epoch 151/200\n",
      "60000/60000 [==============================] - 1s 15us/step - loss: 0.0370 - acc: 0.7888 - val_loss: 0.0360 - val_acc: 0.8007\n",
      "Epoch 152/200\n",
      "60000/60000 [==============================] - 1s 14us/step - loss: 0.0368 - acc: 0.7902 - val_loss: 0.0358 - val_acc: 0.8015\n",
      "Epoch 153/200\n",
      "60000/60000 [==============================] - 1s 15us/step - loss: 0.0366 - acc: 0.7915 - val_loss: 0.0356 - val_acc: 0.8026\n",
      "Epoch 154/200\n",
      "60000/60000 [==============================] - 1s 14us/step - loss: 0.0364 - acc: 0.7929 - val_loss: 0.0354 - val_acc: 0.8043\n",
      "Epoch 155/200\n",
      "60000/60000 [==============================] - 1s 14us/step - loss: 0.0362 - acc: 0.7944 - val_loss: 0.0352 - val_acc: 0.8052\n",
      "Epoch 156/200\n",
      "60000/60000 [==============================] - 1s 18us/step - loss: 0.0360 - acc: 0.7952 - val_loss: 0.0350 - val_acc: 0.8061\n",
      "Epoch 157/200\n",
      "60000/60000 [==============================] - 1s 16us/step - loss: 0.0359 - acc: 0.7970 - val_loss: 0.0349 - val_acc: 0.8078\n",
      "Epoch 158/200\n",
      "60000/60000 [==============================] - 1s 15us/step - loss: 0.0357 - acc: 0.7984 - val_loss: 0.0347 - val_acc: 0.8096\n",
      "Epoch 159/200\n",
      "60000/60000 [==============================] - 1s 15us/step - loss: 0.0355 - acc: 0.7999 - val_loss: 0.0345 - val_acc: 0.8114\n",
      "Epoch 160/200\n",
      "60000/60000 [==============================] - 1s 15us/step - loss: 0.0353 - acc: 0.8017 - val_loss: 0.0343 - val_acc: 0.8128\n",
      "Epoch 161/200\n",
      "60000/60000 [==============================] - 1s 14us/step - loss: 0.0351 - acc: 0.8034 - val_loss: 0.0341 - val_acc: 0.8143\n",
      "Epoch 162/200\n",
      "60000/60000 [==============================] - 1s 15us/step - loss: 0.0350 - acc: 0.8052 - val_loss: 0.0340 - val_acc: 0.8156\n",
      "Epoch 163/200\n",
      "60000/60000 [==============================] - 1s 14us/step - loss: 0.0348 - acc: 0.8067 - val_loss: 0.0338 - val_acc: 0.8172\n",
      "Epoch 164/200\n",
      "60000/60000 [==============================] - 1s 15us/step - loss: 0.0346 - acc: 0.8085 - val_loss: 0.0336 - val_acc: 0.8189\n",
      "Epoch 165/200\n"
     ]
    },
    {
     "name": "stdout",
     "output_type": "stream",
     "text": [
      "60000/60000 [==============================] - 1s 15us/step - loss: 0.0344 - acc: 0.8100 - val_loss: 0.0334 - val_acc: 0.8217\n",
      "Epoch 166/200\n",
      "60000/60000 [==============================] - 1s 15us/step - loss: 0.0343 - acc: 0.8116 - val_loss: 0.0333 - val_acc: 0.8227\n",
      "Epoch 167/200\n",
      "60000/60000 [==============================] - 1s 15us/step - loss: 0.0341 - acc: 0.8133 - val_loss: 0.0331 - val_acc: 0.8245\n",
      "Epoch 168/200\n",
      "60000/60000 [==============================] - 1s 15us/step - loss: 0.0339 - acc: 0.8154 - val_loss: 0.0329 - val_acc: 0.8266\n",
      "Epoch 169/200\n",
      "60000/60000 [==============================] - 1s 16us/step - loss: 0.0338 - acc: 0.8166 - val_loss: 0.0327 - val_acc: 0.8276\n",
      "Epoch 170/200\n",
      "60000/60000 [==============================] - 1s 15us/step - loss: 0.0336 - acc: 0.8180 - val_loss: 0.0326 - val_acc: 0.8289\n",
      "Epoch 171/200\n",
      "60000/60000 [==============================] - 1s 15us/step - loss: 0.0334 - acc: 0.8195 - val_loss: 0.0324 - val_acc: 0.8302\n",
      "Epoch 172/200\n",
      "60000/60000 [==============================] - 1s 15us/step - loss: 0.0333 - acc: 0.8210 - val_loss: 0.0323 - val_acc: 0.8324\n",
      "Epoch 173/200\n",
      "60000/60000 [==============================] - 1s 15us/step - loss: 0.0331 - acc: 0.8227 - val_loss: 0.0321 - val_acc: 0.8336\n",
      "Epoch 174/200\n",
      "60000/60000 [==============================] - 1s 20us/step - loss: 0.0330 - acc: 0.8240 - val_loss: 0.0319 - val_acc: 0.8353\n",
      "Epoch 175/200\n",
      "60000/60000 [==============================] - 1s 15us/step - loss: 0.0328 - acc: 0.8255 - val_loss: 0.0318 - val_acc: 0.8373\n",
      "Epoch 176/200\n",
      "60000/60000 [==============================] - 1s 14us/step - loss: 0.0327 - acc: 0.8272 - val_loss: 0.0316 - val_acc: 0.8388\n",
      "Epoch 177/200\n",
      "60000/60000 [==============================] - 1s 14us/step - loss: 0.0325 - acc: 0.8285 - val_loss: 0.0315 - val_acc: 0.8402\n",
      "Epoch 178/200\n",
      "60000/60000 [==============================] - 1s 15us/step - loss: 0.0323 - acc: 0.8297 - val_loss: 0.0313 - val_acc: 0.8415\n",
      "Epoch 179/200\n",
      "60000/60000 [==============================] - 1s 15us/step - loss: 0.0322 - acc: 0.8309 - val_loss: 0.0311 - val_acc: 0.8421\n",
      "Epoch 180/200\n",
      "60000/60000 [==============================] - 1s 15us/step - loss: 0.0320 - acc: 0.8318 - val_loss: 0.0310 - val_acc: 0.8445\n",
      "Epoch 181/200\n",
      "60000/60000 [==============================] - 1s 15us/step - loss: 0.0319 - acc: 0.8330 - val_loss: 0.0308 - val_acc: 0.8460\n",
      "Epoch 182/200\n",
      "60000/60000 [==============================] - 1s 15us/step - loss: 0.0317 - acc: 0.8341 - val_loss: 0.0307 - val_acc: 0.8467\n",
      "Epoch 183/200\n",
      "60000/60000 [==============================] - 1s 14us/step - loss: 0.0316 - acc: 0.8349 - val_loss: 0.0305 - val_acc: 0.8473\n",
      "Epoch 184/200\n",
      "60000/60000 [==============================] - 1s 15us/step - loss: 0.0315 - acc: 0.8360 - val_loss: 0.0304 - val_acc: 0.8486\n",
      "Epoch 185/200\n",
      "60000/60000 [==============================] - 1s 14us/step - loss: 0.0313 - acc: 0.8372 - val_loss: 0.0303 - val_acc: 0.8492\n",
      "Epoch 186/200\n",
      "60000/60000 [==============================] - 1s 15us/step - loss: 0.0312 - acc: 0.8381 - val_loss: 0.0301 - val_acc: 0.8503\n",
      "Epoch 187/200\n",
      "60000/60000 [==============================] - 1s 15us/step - loss: 0.0310 - acc: 0.8392 - val_loss: 0.0300 - val_acc: 0.8510\n",
      "Epoch 188/200\n",
      "60000/60000 [==============================] - 1s 15us/step - loss: 0.0309 - acc: 0.8403 - val_loss: 0.0298 - val_acc: 0.8522\n",
      "Epoch 189/200\n",
      "60000/60000 [==============================] - 1s 15us/step - loss: 0.0308 - acc: 0.8410 - val_loss: 0.0297 - val_acc: 0.8534\n",
      "Epoch 190/200\n",
      "60000/60000 [==============================] - 1s 15us/step - loss: 0.0306 - acc: 0.8420 - val_loss: 0.0296 - val_acc: 0.8540\n",
      "Epoch 191/200\n",
      "60000/60000 [==============================] - 1s 16us/step - loss: 0.0305 - acc: 0.8431 - val_loss: 0.0294 - val_acc: 0.8556\n",
      "Epoch 192/200\n",
      "60000/60000 [==============================] - 1s 19us/step - loss: 0.0303 - acc: 0.8439 - val_loss: 0.0293 - val_acc: 0.8562\n",
      "Epoch 193/200\n",
      "60000/60000 [==============================] - 1s 15us/step - loss: 0.0302 - acc: 0.8449 - val_loss: 0.0291 - val_acc: 0.8570\n",
      "Epoch 194/200\n",
      "60000/60000 [==============================] - 1s 15us/step - loss: 0.0301 - acc: 0.8457 - val_loss: 0.0290 - val_acc: 0.8572\n",
      "Epoch 195/200\n",
      "60000/60000 [==============================] - 1s 14us/step - loss: 0.0300 - acc: 0.8467 - val_loss: 0.0289 - val_acc: 0.8583\n",
      "Epoch 196/200\n",
      "60000/60000 [==============================] - 1s 14us/step - loss: 0.0298 - acc: 0.8477 - val_loss: 0.0288 - val_acc: 0.8588\n",
      "Epoch 197/200\n",
      "60000/60000 [==============================] - 1s 15us/step - loss: 0.0297 - acc: 0.8484 - val_loss: 0.0286 - val_acc: 0.8590\n",
      "Epoch 198/200\n",
      "60000/60000 [==============================] - 1s 15us/step - loss: 0.0296 - acc: 0.8491 - val_loss: 0.0285 - val_acc: 0.8597\n",
      "Epoch 199/200\n",
      "60000/60000 [==============================] - 1s 15us/step - loss: 0.0294 - acc: 0.8496 - val_loss: 0.0284 - val_acc: 0.8605\n",
      "Epoch 200/200\n",
      "60000/60000 [==============================] - 1s 15us/step - loss: 0.0293 - acc: 0.8503 - val_loss: 0.0282 - val_acc: 0.8607\n"
     ]
    },
    {
     "data": {
      "text/plain": [
       "\"\\nTraining the network!!!\\n\\nValidation Accuracy (val_acc) is the proportion of the 10,000 handwritten images in X_valid in which the network's \\nprobability in the output layer corresponds to the correct digit as per the lables in y_valid.\\n\\nFollowing the first epoch of training, we observe that val_acc equals 0.1179. That is, 12 percent of the images from the \\nheld-out validation dataset were correctly classified by our shallow architecture. Given that there are 10 classes of \\nhandwritten digits, we'd expect a random process to guess 10 percent of the digits correctly by chance, so this is not an \\nimpressive result. As the network continues to train, however, the results improve. After 10 epochs of training, it is \\ncorrectly classifying 31.73 percent of the validation images- far better than would be expected by chance! And this is only \\nthe beginning: After 200 epochs, the network's improvement appears to be plateauing as it approaches 87 percent validation \\naccuracy. Since we consrtucted an uninvolved, shallow neural network architecture, this is not too shabby!\\n\\nNOTE: The val_acc varies between instances since ANNs (Artificial Neural Networks) are stochastic (random). The values \\nregistered in the paragraph above were recorded during the first instance in which it was run. THE VALUES ARE LIKELY\\nDIFFERENT NOW!!!\\n\""
      ]
     },
     "execution_count": 19,
     "metadata": {},
     "output_type": "execute_result"
    }
   ],
   "source": [
    "model.fit(X_train, y_train,\n",
    "          batch_size=128, epochs=200,\n",
    "          verbose=1,\n",
    "          validation_data=(X_valid, y_valid))\n",
    "'''\n",
    "Training the network!!!\n",
    "\n",
    "Validation Accuracy (val_acc) is the proportion of the 10,000 handwritten images in X_valid in which the network's \n",
    "probability in the output layer corresponds to the correct digit as per the lables in y_valid.\n",
    "\n",
    "Following the first epoch of training, we observe that val_acc equals 0.1179. That is, 12 percent of the images from the \n",
    "held-out validation dataset were correctly classified by our shallow architecture. Given that there are 10 classes of \n",
    "handwritten digits, we'd expect a random process to guess 10 percent of the digits correctly by chance, so this is not an \n",
    "impressive result. As the network continues to train, however, the results improve. After 10 epochs of training, it is \n",
    "correctly classifying 31.73 percent of the validation images- far better than would be expected by chance! And this is only \n",
    "the beginning: After 200 epochs, the network's improvement appears to be plateauing as it approaches 87 percent validation \n",
    "accuracy. Since we consrtucted an uninvolved, shallow neural network architecture, this is not too shabby!\n",
    "\n",
    "NOTE: The val_acc varies between instances since ANNs (Artificial Neural Networks) are stochastic (random). The values \n",
    "registered in the paragraph above were recorded during the first instance in which it was run. THE VALUES ARE LIKELY\n",
    "DIFFERENT NOW!!!\n",
    "'''"
   ]
  },
  {
   "cell_type": "code",
   "execution_count": null,
   "metadata": {},
   "outputs": [],
   "source": []
  }
 ],
 "metadata": {
  "kernelspec": {
   "display_name": "Python 3",
   "language": "python",
   "name": "python3"
  },
  "language_info": {
   "codemirror_mode": {
    "name": "ipython",
    "version": 3
   },
   "file_extension": ".py",
   "mimetype": "text/x-python",
   "name": "python",
   "nbconvert_exporter": "python",
   "pygments_lexer": "ipython3",
   "version": "3.7.6"
  }
 },
 "nbformat": 4,
 "nbformat_minor": 2
}
